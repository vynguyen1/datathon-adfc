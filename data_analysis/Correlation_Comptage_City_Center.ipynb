{
 "cells": [
  {
   "cell_type": "code",
   "execution_count": 17,
   "id": "96ebcea0",
   "metadata": {},
   "outputs": [],
   "source": [
    "import pandas as pd\n",
    "import numpy as np\n",
    "import plotly.graph_objs as go\n",
    "import plotly.express as px\n",
    "import glob\n",
    "import warnings\n",
    "from sklearn.linear_model import LinearRegression\n",
    "\n",
    "warnings.simplefilter(action='ignore', category=FutureWarning)\n",
    "pd.options.mode.chained_assignment = None  # default='warn'"
   ]
  },
  {
   "cell_type": "markdown",
   "id": "22c187c8",
   "metadata": {},
   "source": [
    "## Getting the data"
   ]
  },
  {
   "cell_type": "code",
   "execution_count": 2,
   "id": "687cf0fa",
   "metadata": {},
   "outputs": [],
   "source": [
    "filenamesList = glob.glob('ADFC/*.csv')"
   ]
  },
  {
   "cell_type": "code",
   "execution_count": 3,
   "id": "8598620e",
   "metadata": {},
   "outputs": [],
   "source": [
    "list_of_dfs = []\n",
    "for filename in filenamesList:\n",
    "    df_data = pd.read_csv(filename, index_col=0)\n",
    "    df_data['date'] = pd.to_datetime(df_data['date'])\n",
    "    df_data = df_data.drop('timestamp', 1)\n",
    "    df_data['group'] = filename\n",
    "    list_of_dfs.append(df_data)\n",
    "df = pd.concat(list_of_dfs)"
   ]
  },
  {
   "cell_type": "code",
   "execution_count": 4,
   "id": "6e2402d8",
   "metadata": {},
   "outputs": [],
   "source": [
    "df[\"number\"] = df[\"group\"].str.extract('(\\d+)', expand=True)\n",
    "df['number'] = df['number'].astype(float)"
   ]
  },
  {
   "cell_type": "code",
   "execution_count": 5,
   "id": "713326b2",
   "metadata": {},
   "outputs": [],
   "source": [
    "eco_bike_data = pd.read_excel('ADFC/fetched_eco_bike_data.xlsx')"
   ]
  },
  {
   "cell_type": "code",
   "execution_count": 6,
   "id": "75c3d5d6",
   "metadata": {},
   "outputs": [],
   "source": [
    "merged_df = pd.merge(df, eco_bike_data, on='number', how='left')"
   ]
  },
  {
   "cell_type": "code",
   "execution_count": 7,
   "id": "9cb434c6",
   "metadata": {},
   "outputs": [
    {
     "data": {
      "text/html": [
       "<div>\n",
       "<style scoped>\n",
       "    .dataframe tbody tr th:only-of-type {\n",
       "        vertical-align: middle;\n",
       "    }\n",
       "\n",
       "    .dataframe tbody tr th {\n",
       "        vertical-align: top;\n",
       "    }\n",
       "\n",
       "    .dataframe thead th {\n",
       "        text-align: right;\n",
       "    }\n",
       "</style>\n",
       "<table border=\"1\" class=\"dataframe\">\n",
       "  <thead>\n",
       "    <tr style=\"text-align: right;\">\n",
       "      <th></th>\n",
       "      <th>date</th>\n",
       "      <th>comptage</th>\n",
       "      <th>group</th>\n",
       "      <th>number</th>\n",
       "      <th>city</th>\n",
       "      <th>latitude</th>\n",
       "      <th>longitude</th>\n",
       "      <th>id_list</th>\n",
       "      <th>Distance to center [km]</th>\n",
       "      <th>fetched_url</th>\n",
       "    </tr>\n",
       "  </thead>\n",
       "  <tbody>\n",
       "    <tr>\n",
       "      <th>0</th>\n",
       "      <td>2017-11-28 00:00:00</td>\n",
       "      <td>0</td>\n",
       "      <td>ADFC/Rostock_11.csv</td>\n",
       "      <td>11.0</td>\n",
       "      <td>Berlin</td>\n",
       "      <td>52.457758</td>\n",
       "      <td>13.519360</td>\n",
       "      <td>100032237.0</td>\n",
       "      <td>11.0239</td>\n",
       "      <td>https://data.eco-counter.com/public2/?id=10003...</td>\n",
       "    </tr>\n",
       "    <tr>\n",
       "      <th>1</th>\n",
       "      <td>2017-11-28 00:00:00</td>\n",
       "      <td>0</td>\n",
       "      <td>ADFC/Rostock_11.csv</td>\n",
       "      <td>11.0</td>\n",
       "      <td>Düsseldorf</td>\n",
       "      <td>51.231660</td>\n",
       "      <td>6.763200</td>\n",
       "      <td>100047280.0</td>\n",
       "      <td>1.1481</td>\n",
       "      <td>https://data.eco-counter.com/public2/?id=10004...</td>\n",
       "    </tr>\n",
       "    <tr>\n",
       "      <th>2</th>\n",
       "      <td>2017-11-28 00:00:00</td>\n",
       "      <td>0</td>\n",
       "      <td>ADFC/Rostock_11.csv</td>\n",
       "      <td>11.0</td>\n",
       "      <td>Köln</td>\n",
       "      <td>50.920549</td>\n",
       "      <td>6.944770</td>\n",
       "      <td>100045094.0</td>\n",
       "      <td>2.2490</td>\n",
       "      <td>https://data.eco-counter.com/public2/?id=10004...</td>\n",
       "    </tr>\n",
       "    <tr>\n",
       "      <th>3</th>\n",
       "      <td>2017-11-28 00:00:00</td>\n",
       "      <td>0</td>\n",
       "      <td>ADFC/Rostock_11.csv</td>\n",
       "      <td>11.0</td>\n",
       "      <td>Rostock</td>\n",
       "      <td>54.184589</td>\n",
       "      <td>12.237238</td>\n",
       "      <td>100041597.0</td>\n",
       "      <td>12.4519</td>\n",
       "      <td>https://data.eco-counter.com/public2/?id=10004...</td>\n",
       "    </tr>\n",
       "    <tr>\n",
       "      <th>4</th>\n",
       "      <td>2017-11-28 00:00:00</td>\n",
       "      <td>0</td>\n",
       "      <td>ADFC/Rostock_11.csv</td>\n",
       "      <td>11.0</td>\n",
       "      <td>Stuttgart</td>\n",
       "      <td>48.784240</td>\n",
       "      <td>9.147031</td>\n",
       "      <td>100063203.0</td>\n",
       "      <td>2.5009</td>\n",
       "      <td>https://data.eco-counter.com/public2/?id=10006...</td>\n",
       "    </tr>\n",
       "    <tr>\n",
       "      <th>...</th>\n",
       "      <td>...</td>\n",
       "      <td>...</td>\n",
       "      <td>...</td>\n",
       "      <td>...</td>\n",
       "      <td>...</td>\n",
       "      <td>...</td>\n",
       "      <td>...</td>\n",
       "      <td>...</td>\n",
       "      <td>...</td>\n",
       "      <td>...</td>\n",
       "    </tr>\n",
       "    <tr>\n",
       "      <th>84226512</th>\n",
       "      <td>2021-09-29 23:45:00</td>\n",
       "      <td>3</td>\n",
       "      <td>ADFC/Heidelberg_1.csv</td>\n",
       "      <td>1.0</td>\n",
       "      <td>Köln</td>\n",
       "      <td>50.913017</td>\n",
       "      <td>6.948681</td>\n",
       "      <td>100019755.0</td>\n",
       "      <td>2.9272</td>\n",
       "      <td>https://data.eco-counter.com/public2/?id=10001...</td>\n",
       "    </tr>\n",
       "    <tr>\n",
       "      <th>84226513</th>\n",
       "      <td>2021-09-29 23:45:00</td>\n",
       "      <td>3</td>\n",
       "      <td>ADFC/Heidelberg_1.csv</td>\n",
       "      <td>1.0</td>\n",
       "      <td>Rostock</td>\n",
       "      <td>54.102950</td>\n",
       "      <td>12.074080</td>\n",
       "      <td>100005392.0</td>\n",
       "      <td>3.7428</td>\n",
       "      <td>https://data.eco-counter.com/public2/?id=10000...</td>\n",
       "    </tr>\n",
       "    <tr>\n",
       "      <th>84226514</th>\n",
       "      <td>2021-09-29 23:45:00</td>\n",
       "      <td>3</td>\n",
       "      <td>ADFC/Heidelberg_1.csv</td>\n",
       "      <td>1.0</td>\n",
       "      <td>Stuttgart</td>\n",
       "      <td>48.799126</td>\n",
       "      <td>9.210372</td>\n",
       "      <td>100034882.0</td>\n",
       "      <td>3.1989</td>\n",
       "      <td>https://data.eco-counter.com/public2/?id=10003...</td>\n",
       "    </tr>\n",
       "    <tr>\n",
       "      <th>84226515</th>\n",
       "      <td>2021-09-29 23:45:00</td>\n",
       "      <td>3</td>\n",
       "      <td>ADFC/Heidelberg_1.csv</td>\n",
       "      <td>1.0</td>\n",
       "      <td>Osnabrück</td>\n",
       "      <td>52.279965</td>\n",
       "      <td>8.055056</td>\n",
       "      <td>100050631.0</td>\n",
       "      <td>1.0234</td>\n",
       "      <td>https://data.eco-counter.com/public2/?id=10005...</td>\n",
       "    </tr>\n",
       "    <tr>\n",
       "      <th>84226516</th>\n",
       "      <td>2021-09-29 23:45:00</td>\n",
       "      <td>3</td>\n",
       "      <td>ADFC/Heidelberg_1.csv</td>\n",
       "      <td>1.0</td>\n",
       "      <td>Ludwigsburg</td>\n",
       "      <td>48.893189</td>\n",
       "      <td>9.192943</td>\n",
       "      <td>100041999.0</td>\n",
       "      <td>0.3506</td>\n",
       "      <td>https://data.eco-counter.com/public2/?id=10004...</td>\n",
       "    </tr>\n",
       "  </tbody>\n",
       "</table>\n",
       "<p>84226517 rows × 10 columns</p>\n",
       "</div>"
      ],
      "text/plain": [
       "                        date  comptage                  group  number  \\\n",
       "0        2017-11-28 00:00:00         0    ADFC/Rostock_11.csv    11.0   \n",
       "1        2017-11-28 00:00:00         0    ADFC/Rostock_11.csv    11.0   \n",
       "2        2017-11-28 00:00:00         0    ADFC/Rostock_11.csv    11.0   \n",
       "3        2017-11-28 00:00:00         0    ADFC/Rostock_11.csv    11.0   \n",
       "4        2017-11-28 00:00:00         0    ADFC/Rostock_11.csv    11.0   \n",
       "...                      ...       ...                    ...     ...   \n",
       "84226512 2021-09-29 23:45:00         3  ADFC/Heidelberg_1.csv     1.0   \n",
       "84226513 2021-09-29 23:45:00         3  ADFC/Heidelberg_1.csv     1.0   \n",
       "84226514 2021-09-29 23:45:00         3  ADFC/Heidelberg_1.csv     1.0   \n",
       "84226515 2021-09-29 23:45:00         3  ADFC/Heidelberg_1.csv     1.0   \n",
       "84226516 2021-09-29 23:45:00         3  ADFC/Heidelberg_1.csv     1.0   \n",
       "\n",
       "                 city   latitude  longitude      id_list  \\\n",
       "0              Berlin  52.457758  13.519360  100032237.0   \n",
       "1          Düsseldorf  51.231660   6.763200  100047280.0   \n",
       "2                Köln  50.920549   6.944770  100045094.0   \n",
       "3             Rostock  54.184589  12.237238  100041597.0   \n",
       "4           Stuttgart  48.784240   9.147031  100063203.0   \n",
       "...               ...        ...        ...          ...   \n",
       "84226512         Köln  50.913017   6.948681  100019755.0   \n",
       "84226513      Rostock  54.102950  12.074080  100005392.0   \n",
       "84226514    Stuttgart  48.799126   9.210372  100034882.0   \n",
       "84226515    Osnabrück  52.279965   8.055056  100050631.0   \n",
       "84226516  Ludwigsburg  48.893189   9.192943  100041999.0   \n",
       "\n",
       "          Distance to center [km]  \\\n",
       "0                         11.0239   \n",
       "1                          1.1481   \n",
       "2                          2.2490   \n",
       "3                         12.4519   \n",
       "4                          2.5009   \n",
       "...                           ...   \n",
       "84226512                   2.9272   \n",
       "84226513                   3.7428   \n",
       "84226514                   3.1989   \n",
       "84226515                   1.0234   \n",
       "84226516                   0.3506   \n",
       "\n",
       "                                                fetched_url  \n",
       "0         https://data.eco-counter.com/public2/?id=10003...  \n",
       "1         https://data.eco-counter.com/public2/?id=10004...  \n",
       "2         https://data.eco-counter.com/public2/?id=10004...  \n",
       "3         https://data.eco-counter.com/public2/?id=10004...  \n",
       "4         https://data.eco-counter.com/public2/?id=10006...  \n",
       "...                                                     ...  \n",
       "84226512  https://data.eco-counter.com/public2/?id=10001...  \n",
       "84226513  https://data.eco-counter.com/public2/?id=10000...  \n",
       "84226514  https://data.eco-counter.com/public2/?id=10003...  \n",
       "84226515  https://data.eco-counter.com/public2/?id=10005...  \n",
       "84226516  https://data.eco-counter.com/public2/?id=10004...  \n",
       "\n",
       "[84226517 rows x 10 columns]"
      ]
     },
     "execution_count": 7,
     "metadata": {},
     "output_type": "execute_result"
    }
   ],
   "source": [
    "merged_df"
   ]
  },
  {
   "cell_type": "code",
   "execution_count": 15,
   "id": "f4d6dc9e",
   "metadata": {},
   "outputs": [],
   "source": [
    "#merged_df.groupby(merged_df['date']).agg({'comptage': 'sum', 'Distance to center [km]': 'mean'})"
   ]
  },
  {
   "cell_type": "code",
   "execution_count": 12,
   "id": "40864738",
   "metadata": {},
   "outputs": [],
   "source": [
    "final_df = merged_df.groupby(merged_df['Distance to center [km]']).agg({'comptage': 'sum'})"
   ]
  },
  {
   "cell_type": "code",
   "execution_count": 28,
   "id": "689c7a04",
   "metadata": {},
   "outputs": [
    {
     "data": {
      "text/html": [
       "<div>\n",
       "<style scoped>\n",
       "    .dataframe tbody tr th:only-of-type {\n",
       "        vertical-align: middle;\n",
       "    }\n",
       "\n",
       "    .dataframe tbody tr th {\n",
       "        vertical-align: top;\n",
       "    }\n",
       "\n",
       "    .dataframe thead th {\n",
       "        text-align: right;\n",
       "    }\n",
       "</style>\n",
       "<table border=\"1\" class=\"dataframe\">\n",
       "  <thead>\n",
       "    <tr style=\"text-align: right;\">\n",
       "      <th></th>\n",
       "      <th>comptage</th>\n",
       "      <th>distance_km</th>\n",
       "    </tr>\n",
       "    <tr>\n",
       "      <th>Distance to center [km]</th>\n",
       "      <th></th>\n",
       "      <th></th>\n",
       "    </tr>\n",
       "  </thead>\n",
       "  <tbody>\n",
       "    <tr>\n",
       "      <th>0.0691</th>\n",
       "      <td>54831590</td>\n",
       "      <td>0.0691</td>\n",
       "    </tr>\n",
       "    <tr>\n",
       "      <th>0.1432</th>\n",
       "      <td>54831590</td>\n",
       "      <td>0.1432</td>\n",
       "    </tr>\n",
       "    <tr>\n",
       "      <th>0.2782</th>\n",
       "      <td>10889367</td>\n",
       "      <td>0.2782</td>\n",
       "    </tr>\n",
       "    <tr>\n",
       "      <th>0.3123</th>\n",
       "      <td>54831590</td>\n",
       "      <td>0.3123</td>\n",
       "    </tr>\n",
       "    <tr>\n",
       "      <th>0.3506</th>\n",
       "      <td>54831590</td>\n",
       "      <td>0.3506</td>\n",
       "    </tr>\n",
       "    <tr>\n",
       "      <th>...</th>\n",
       "      <td>...</td>\n",
       "      <td>...</td>\n",
       "    </tr>\n",
       "    <tr>\n",
       "      <th>11.4888</th>\n",
       "      <td>5415041</td>\n",
       "      <td>11.4888</td>\n",
       "    </tr>\n",
       "    <tr>\n",
       "      <th>11.4972</th>\n",
       "      <td>21590214</td>\n",
       "      <td>11.4972</td>\n",
       "    </tr>\n",
       "    <tr>\n",
       "      <th>11.8009</th>\n",
       "      <td>9814600</td>\n",
       "      <td>11.8009</td>\n",
       "    </tr>\n",
       "    <tr>\n",
       "      <th>12.4519</th>\n",
       "      <td>11095313</td>\n",
       "      <td>12.4519</td>\n",
       "    </tr>\n",
       "    <tr>\n",
       "      <th>12.9793</th>\n",
       "      <td>13607124</td>\n",
       "      <td>12.9793</td>\n",
       "    </tr>\n",
       "  </tbody>\n",
       "</table>\n",
       "<p>85 rows × 2 columns</p>\n",
       "</div>"
      ],
      "text/plain": [
       "                         comptage  distance_km\n",
       "Distance to center [km]                       \n",
       "0.0691                   54831590       0.0691\n",
       "0.1432                   54831590       0.1432\n",
       "0.2782                   10889367       0.2782\n",
       "0.3123                   54831590       0.3123\n",
       "0.3506                   54831590       0.3506\n",
       "...                           ...          ...\n",
       "11.4888                   5415041      11.4888\n",
       "11.4972                  21590214      11.4972\n",
       "11.8009                   9814600      11.8009\n",
       "12.4519                  11095313      12.4519\n",
       "12.9793                  13607124      12.9793\n",
       "\n",
       "[85 rows x 2 columns]"
      ]
     },
     "execution_count": 28,
     "metadata": {},
     "output_type": "execute_result"
    }
   ],
   "source": [
    "final_df['distance_km'] = final_df.index\n",
    "final_df"
   ]
  },
  {
   "cell_type": "code",
   "execution_count": 55,
   "id": "3c037542",
   "metadata": {
    "scrolled": false
   },
   "outputs": [
    {
     "data": {
      "application/vnd.plotly.v1+json": {
       "config": {
        "plotlyServerURL": "https://plot.ly"
       },
       "data": [
        {
         "hovertemplate": "Distance to center [km]=%{x}<br>comptage=%{y}<extra></extra>",
         "legendgroup": "",
         "line": {
          "color": "#636efa",
          "dash": "solid"
         },
         "marker": {
          "symbol": "circle"
         },
         "mode": "lines",
         "name": "",
         "orientation": "v",
         "showlegend": false,
         "type": "scatter",
         "x": [
          0.0691,
          0.1432,
          0.2782,
          0.3123,
          0.3506,
          0.4643,
          0.4744,
          0.5075,
          0.5385,
          0.5619,
          0.7757,
          0.8662,
          0.8675,
          0.8787,
          0.9111,
          1.0016,
          1.0234,
          1.0717,
          1.1201,
          1.1481,
          1.3071,
          1.3609,
          1.4901,
          1.5044,
          1.5908,
          1.6032,
          1.6671,
          1.8659,
          1.9827,
          2.2421,
          2.2423,
          2.249,
          2.2665,
          2.3391,
          2.4804,
          2.5009,
          2.5177,
          2.8424,
          2.9272,
          2.9583,
          3.0659,
          3.1451,
          3.1989,
          3.2444,
          3.3227,
          3.4648,
          3.5362,
          3.6211,
          3.6821,
          3.7428,
          3.7888,
          3.8091,
          4.1213,
          4.1872,
          4.2037,
          4.2266,
          4.4887,
          4.5252,
          4.5845,
          4.7354,
          4.7536,
          4.7863,
          4.8063,
          4.8536,
          5.0278,
          5.4757,
          5.7547,
          5.7977,
          5.8718,
          5.9002,
          6.0814,
          6.4573,
          7.1639,
          7.7698,
          8.7306,
          9.7184,
          10.4212,
          11.0239,
          11.462,
          11.4804,
          11.4888,
          11.4972,
          11.8009,
          12.4519,
          12.9793
         ],
         "xaxis": "x",
         "y": [
          54831590,
          54831590,
          10889367,
          54831590,
          54831590,
          54831590,
          23372437,
          21590214,
          23372437,
          14562385,
          5415041,
          54831590,
          9814600,
          11696200,
          13607124,
          3903111,
          54831590,
          11340294,
          3903111,
          11095313,
          54831590,
          21238835,
          23372437,
          19871706,
          54831590,
          23372437,
          19871706,
          11340294,
          54831590,
          13607124,
          12352761,
          11095313,
          23372437,
          12352761,
          19871706,
          11095313,
          9814600,
          54831590,
          54831590,
          10889367,
          11340294,
          54831590,
          54831590,
          21238835,
          11340294,
          5415041,
          21238835,
          11340294,
          23372437,
          54831590,
          11696200,
          21590214,
          12352761,
          11696200,
          11604419,
          423642,
          21238835,
          14562385,
          10889367,
          14562385,
          19871706,
          3903111,
          23372437,
          11696200,
          12352761,
          5415041,
          21238835,
          14562385,
          9814600,
          5415041,
          12352761,
          21590214,
          14562385,
          19871706,
          3449621,
          13607124,
          13607124,
          11095313,
          21590214,
          11696200,
          5415041,
          21590214,
          9814600,
          11095313,
          13607124
         ],
         "yaxis": "y"
        }
       ],
       "layout": {
        "legend": {
         "tracegroupgap": 0
        },
        "margin": {
         "t": 60
        },
        "template": {
         "data": {
          "bar": [
           {
            "error_x": {
             "color": "#2a3f5f"
            },
            "error_y": {
             "color": "#2a3f5f"
            },
            "marker": {
             "line": {
              "color": "#E5ECF6",
              "width": 0.5
             },
             "pattern": {
              "fillmode": "overlay",
              "size": 10,
              "solidity": 0.2
             }
            },
            "type": "bar"
           }
          ],
          "barpolar": [
           {
            "marker": {
             "line": {
              "color": "#E5ECF6",
              "width": 0.5
             },
             "pattern": {
              "fillmode": "overlay",
              "size": 10,
              "solidity": 0.2
             }
            },
            "type": "barpolar"
           }
          ],
          "carpet": [
           {
            "aaxis": {
             "endlinecolor": "#2a3f5f",
             "gridcolor": "white",
             "linecolor": "white",
             "minorgridcolor": "white",
             "startlinecolor": "#2a3f5f"
            },
            "baxis": {
             "endlinecolor": "#2a3f5f",
             "gridcolor": "white",
             "linecolor": "white",
             "minorgridcolor": "white",
             "startlinecolor": "#2a3f5f"
            },
            "type": "carpet"
           }
          ],
          "choropleth": [
           {
            "colorbar": {
             "outlinewidth": 0,
             "ticks": ""
            },
            "type": "choropleth"
           }
          ],
          "contour": [
           {
            "colorbar": {
             "outlinewidth": 0,
             "ticks": ""
            },
            "colorscale": [
             [
              0,
              "#0d0887"
             ],
             [
              0.1111111111111111,
              "#46039f"
             ],
             [
              0.2222222222222222,
              "#7201a8"
             ],
             [
              0.3333333333333333,
              "#9c179e"
             ],
             [
              0.4444444444444444,
              "#bd3786"
             ],
             [
              0.5555555555555556,
              "#d8576b"
             ],
             [
              0.6666666666666666,
              "#ed7953"
             ],
             [
              0.7777777777777778,
              "#fb9f3a"
             ],
             [
              0.8888888888888888,
              "#fdca26"
             ],
             [
              1,
              "#f0f921"
             ]
            ],
            "type": "contour"
           }
          ],
          "contourcarpet": [
           {
            "colorbar": {
             "outlinewidth": 0,
             "ticks": ""
            },
            "type": "contourcarpet"
           }
          ],
          "heatmap": [
           {
            "colorbar": {
             "outlinewidth": 0,
             "ticks": ""
            },
            "colorscale": [
             [
              0,
              "#0d0887"
             ],
             [
              0.1111111111111111,
              "#46039f"
             ],
             [
              0.2222222222222222,
              "#7201a8"
             ],
             [
              0.3333333333333333,
              "#9c179e"
             ],
             [
              0.4444444444444444,
              "#bd3786"
             ],
             [
              0.5555555555555556,
              "#d8576b"
             ],
             [
              0.6666666666666666,
              "#ed7953"
             ],
             [
              0.7777777777777778,
              "#fb9f3a"
             ],
             [
              0.8888888888888888,
              "#fdca26"
             ],
             [
              1,
              "#f0f921"
             ]
            ],
            "type": "heatmap"
           }
          ],
          "heatmapgl": [
           {
            "colorbar": {
             "outlinewidth": 0,
             "ticks": ""
            },
            "colorscale": [
             [
              0,
              "#0d0887"
             ],
             [
              0.1111111111111111,
              "#46039f"
             ],
             [
              0.2222222222222222,
              "#7201a8"
             ],
             [
              0.3333333333333333,
              "#9c179e"
             ],
             [
              0.4444444444444444,
              "#bd3786"
             ],
             [
              0.5555555555555556,
              "#d8576b"
             ],
             [
              0.6666666666666666,
              "#ed7953"
             ],
             [
              0.7777777777777778,
              "#fb9f3a"
             ],
             [
              0.8888888888888888,
              "#fdca26"
             ],
             [
              1,
              "#f0f921"
             ]
            ],
            "type": "heatmapgl"
           }
          ],
          "histogram": [
           {
            "marker": {
             "pattern": {
              "fillmode": "overlay",
              "size": 10,
              "solidity": 0.2
             }
            },
            "type": "histogram"
           }
          ],
          "histogram2d": [
           {
            "colorbar": {
             "outlinewidth": 0,
             "ticks": ""
            },
            "colorscale": [
             [
              0,
              "#0d0887"
             ],
             [
              0.1111111111111111,
              "#46039f"
             ],
             [
              0.2222222222222222,
              "#7201a8"
             ],
             [
              0.3333333333333333,
              "#9c179e"
             ],
             [
              0.4444444444444444,
              "#bd3786"
             ],
             [
              0.5555555555555556,
              "#d8576b"
             ],
             [
              0.6666666666666666,
              "#ed7953"
             ],
             [
              0.7777777777777778,
              "#fb9f3a"
             ],
             [
              0.8888888888888888,
              "#fdca26"
             ],
             [
              1,
              "#f0f921"
             ]
            ],
            "type": "histogram2d"
           }
          ],
          "histogram2dcontour": [
           {
            "colorbar": {
             "outlinewidth": 0,
             "ticks": ""
            },
            "colorscale": [
             [
              0,
              "#0d0887"
             ],
             [
              0.1111111111111111,
              "#46039f"
             ],
             [
              0.2222222222222222,
              "#7201a8"
             ],
             [
              0.3333333333333333,
              "#9c179e"
             ],
             [
              0.4444444444444444,
              "#bd3786"
             ],
             [
              0.5555555555555556,
              "#d8576b"
             ],
             [
              0.6666666666666666,
              "#ed7953"
             ],
             [
              0.7777777777777778,
              "#fb9f3a"
             ],
             [
              0.8888888888888888,
              "#fdca26"
             ],
             [
              1,
              "#f0f921"
             ]
            ],
            "type": "histogram2dcontour"
           }
          ],
          "mesh3d": [
           {
            "colorbar": {
             "outlinewidth": 0,
             "ticks": ""
            },
            "type": "mesh3d"
           }
          ],
          "parcoords": [
           {
            "line": {
             "colorbar": {
              "outlinewidth": 0,
              "ticks": ""
             }
            },
            "type": "parcoords"
           }
          ],
          "pie": [
           {
            "automargin": true,
            "type": "pie"
           }
          ],
          "scatter": [
           {
            "marker": {
             "colorbar": {
              "outlinewidth": 0,
              "ticks": ""
             }
            },
            "type": "scatter"
           }
          ],
          "scatter3d": [
           {
            "line": {
             "colorbar": {
              "outlinewidth": 0,
              "ticks": ""
             }
            },
            "marker": {
             "colorbar": {
              "outlinewidth": 0,
              "ticks": ""
             }
            },
            "type": "scatter3d"
           }
          ],
          "scattercarpet": [
           {
            "marker": {
             "colorbar": {
              "outlinewidth": 0,
              "ticks": ""
             }
            },
            "type": "scattercarpet"
           }
          ],
          "scattergeo": [
           {
            "marker": {
             "colorbar": {
              "outlinewidth": 0,
              "ticks": ""
             }
            },
            "type": "scattergeo"
           }
          ],
          "scattergl": [
           {
            "marker": {
             "colorbar": {
              "outlinewidth": 0,
              "ticks": ""
             }
            },
            "type": "scattergl"
           }
          ],
          "scattermapbox": [
           {
            "marker": {
             "colorbar": {
              "outlinewidth": 0,
              "ticks": ""
             }
            },
            "type": "scattermapbox"
           }
          ],
          "scatterpolar": [
           {
            "marker": {
             "colorbar": {
              "outlinewidth": 0,
              "ticks": ""
             }
            },
            "type": "scatterpolar"
           }
          ],
          "scatterpolargl": [
           {
            "marker": {
             "colorbar": {
              "outlinewidth": 0,
              "ticks": ""
             }
            },
            "type": "scatterpolargl"
           }
          ],
          "scatterternary": [
           {
            "marker": {
             "colorbar": {
              "outlinewidth": 0,
              "ticks": ""
             }
            },
            "type": "scatterternary"
           }
          ],
          "surface": [
           {
            "colorbar": {
             "outlinewidth": 0,
             "ticks": ""
            },
            "colorscale": [
             [
              0,
              "#0d0887"
             ],
             [
              0.1111111111111111,
              "#46039f"
             ],
             [
              0.2222222222222222,
              "#7201a8"
             ],
             [
              0.3333333333333333,
              "#9c179e"
             ],
             [
              0.4444444444444444,
              "#bd3786"
             ],
             [
              0.5555555555555556,
              "#d8576b"
             ],
             [
              0.6666666666666666,
              "#ed7953"
             ],
             [
              0.7777777777777778,
              "#fb9f3a"
             ],
             [
              0.8888888888888888,
              "#fdca26"
             ],
             [
              1,
              "#f0f921"
             ]
            ],
            "type": "surface"
           }
          ],
          "table": [
           {
            "cells": {
             "fill": {
              "color": "#EBF0F8"
             },
             "line": {
              "color": "white"
             }
            },
            "header": {
             "fill": {
              "color": "#C8D4E3"
             },
             "line": {
              "color": "white"
             }
            },
            "type": "table"
           }
          ]
         },
         "layout": {
          "annotationdefaults": {
           "arrowcolor": "#2a3f5f",
           "arrowhead": 0,
           "arrowwidth": 1
          },
          "autotypenumbers": "strict",
          "coloraxis": {
           "colorbar": {
            "outlinewidth": 0,
            "ticks": ""
           }
          },
          "colorscale": {
           "diverging": [
            [
             0,
             "#8e0152"
            ],
            [
             0.1,
             "#c51b7d"
            ],
            [
             0.2,
             "#de77ae"
            ],
            [
             0.3,
             "#f1b6da"
            ],
            [
             0.4,
             "#fde0ef"
            ],
            [
             0.5,
             "#f7f7f7"
            ],
            [
             0.6,
             "#e6f5d0"
            ],
            [
             0.7,
             "#b8e186"
            ],
            [
             0.8,
             "#7fbc41"
            ],
            [
             0.9,
             "#4d9221"
            ],
            [
             1,
             "#276419"
            ]
           ],
           "sequential": [
            [
             0,
             "#0d0887"
            ],
            [
             0.1111111111111111,
             "#46039f"
            ],
            [
             0.2222222222222222,
             "#7201a8"
            ],
            [
             0.3333333333333333,
             "#9c179e"
            ],
            [
             0.4444444444444444,
             "#bd3786"
            ],
            [
             0.5555555555555556,
             "#d8576b"
            ],
            [
             0.6666666666666666,
             "#ed7953"
            ],
            [
             0.7777777777777778,
             "#fb9f3a"
            ],
            [
             0.8888888888888888,
             "#fdca26"
            ],
            [
             1,
             "#f0f921"
            ]
           ],
           "sequentialminus": [
            [
             0,
             "#0d0887"
            ],
            [
             0.1111111111111111,
             "#46039f"
            ],
            [
             0.2222222222222222,
             "#7201a8"
            ],
            [
             0.3333333333333333,
             "#9c179e"
            ],
            [
             0.4444444444444444,
             "#bd3786"
            ],
            [
             0.5555555555555556,
             "#d8576b"
            ],
            [
             0.6666666666666666,
             "#ed7953"
            ],
            [
             0.7777777777777778,
             "#fb9f3a"
            ],
            [
             0.8888888888888888,
             "#fdca26"
            ],
            [
             1,
             "#f0f921"
            ]
           ]
          },
          "colorway": [
           "#636efa",
           "#EF553B",
           "#00cc96",
           "#ab63fa",
           "#FFA15A",
           "#19d3f3",
           "#FF6692",
           "#B6E880",
           "#FF97FF",
           "#FECB52"
          ],
          "font": {
           "color": "#2a3f5f"
          },
          "geo": {
           "bgcolor": "white",
           "lakecolor": "white",
           "landcolor": "#E5ECF6",
           "showlakes": true,
           "showland": true,
           "subunitcolor": "white"
          },
          "hoverlabel": {
           "align": "left"
          },
          "hovermode": "closest",
          "mapbox": {
           "style": "light"
          },
          "paper_bgcolor": "white",
          "plot_bgcolor": "#E5ECF6",
          "polar": {
           "angularaxis": {
            "gridcolor": "white",
            "linecolor": "white",
            "ticks": ""
           },
           "bgcolor": "#E5ECF6",
           "radialaxis": {
            "gridcolor": "white",
            "linecolor": "white",
            "ticks": ""
           }
          },
          "scene": {
           "xaxis": {
            "backgroundcolor": "#E5ECF6",
            "gridcolor": "white",
            "gridwidth": 2,
            "linecolor": "white",
            "showbackground": true,
            "ticks": "",
            "zerolinecolor": "white"
           },
           "yaxis": {
            "backgroundcolor": "#E5ECF6",
            "gridcolor": "white",
            "gridwidth": 2,
            "linecolor": "white",
            "showbackground": true,
            "ticks": "",
            "zerolinecolor": "white"
           },
           "zaxis": {
            "backgroundcolor": "#E5ECF6",
            "gridcolor": "white",
            "gridwidth": 2,
            "linecolor": "white",
            "showbackground": true,
            "ticks": "",
            "zerolinecolor": "white"
           }
          },
          "shapedefaults": {
           "line": {
            "color": "#2a3f5f"
           }
          },
          "ternary": {
           "aaxis": {
            "gridcolor": "white",
            "linecolor": "white",
            "ticks": ""
           },
           "baxis": {
            "gridcolor": "white",
            "linecolor": "white",
            "ticks": ""
           },
           "bgcolor": "#E5ECF6",
           "caxis": {
            "gridcolor": "white",
            "linecolor": "white",
            "ticks": ""
           }
          },
          "title": {
           "x": 0.05
          },
          "xaxis": {
           "automargin": true,
           "gridcolor": "white",
           "linecolor": "white",
           "ticks": "",
           "title": {
            "standoff": 15
           },
           "zerolinecolor": "white",
           "zerolinewidth": 2
          },
          "yaxis": {
           "automargin": true,
           "gridcolor": "white",
           "linecolor": "white",
           "ticks": "",
           "title": {
            "standoff": 15
           },
           "zerolinecolor": "white",
           "zerolinewidth": 2
          }
         }
        },
        "xaxis": {
         "anchor": "y",
         "domain": [
          0,
          1
         ],
         "title": {
          "text": "Distance to center [km]"
         }
        },
        "yaxis": {
         "anchor": "x",
         "domain": [
          0,
          1
         ],
         "title": {
          "text": "comptage"
         }
        }
       }
      },
      "text/html": [
       "<div>                            <div id=\"9e839f64-14ed-492e-b3ed-3481f188be92\" class=\"plotly-graph-div\" style=\"height:525px; width:100%;\"></div>            <script type=\"text/javascript\">                require([\"plotly\"], function(Plotly) {                    window.PLOTLYENV=window.PLOTLYENV || {};                                    if (document.getElementById(\"9e839f64-14ed-492e-b3ed-3481f188be92\")) {                    Plotly.newPlot(                        \"9e839f64-14ed-492e-b3ed-3481f188be92\",                        [{\"hovertemplate\":\"Distance to center [km]=%{x}<br>comptage=%{y}<extra></extra>\",\"legendgroup\":\"\",\"line\":{\"color\":\"#636efa\",\"dash\":\"solid\"},\"marker\":{\"symbol\":\"circle\"},\"mode\":\"lines\",\"name\":\"\",\"orientation\":\"v\",\"showlegend\":false,\"x\":[0.0691,0.1432,0.2782,0.3123,0.3506,0.4643,0.4744,0.5075,0.5385,0.5619,0.7757,0.8662,0.8675,0.8787,0.9111,1.0016,1.0234,1.0717,1.1201,1.1481,1.3071,1.3609,1.4901,1.5044,1.5908,1.6032,1.6671,1.8659,1.9827,2.2421,2.2423,2.249,2.2665,2.3391,2.4804,2.5009,2.5177,2.8424,2.9272,2.9583,3.0659,3.1451,3.1989,3.2444,3.3227,3.4648,3.5362,3.6211,3.6821,3.7428,3.7888,3.8091,4.1213,4.1872,4.2037,4.2266,4.4887,4.5252,4.5845,4.7354,4.7536,4.7863,4.8063,4.8536,5.0278,5.4757,5.7547,5.7977,5.8718,5.9002,6.0814,6.4573,7.1639,7.7698,8.7306,9.7184,10.4212,11.0239,11.462,11.4804,11.4888,11.4972,11.8009,12.4519,12.9793],\"xaxis\":\"x\",\"y\":[54831590,54831590,10889367,54831590,54831590,54831590,23372437,21590214,23372437,14562385,5415041,54831590,9814600,11696200,13607124,3903111,54831590,11340294,3903111,11095313,54831590,21238835,23372437,19871706,54831590,23372437,19871706,11340294,54831590,13607124,12352761,11095313,23372437,12352761,19871706,11095313,9814600,54831590,54831590,10889367,11340294,54831590,54831590,21238835,11340294,5415041,21238835,11340294,23372437,54831590,11696200,21590214,12352761,11696200,11604419,423642,21238835,14562385,10889367,14562385,19871706,3903111,23372437,11696200,12352761,5415041,21238835,14562385,9814600,5415041,12352761,21590214,14562385,19871706,3449621,13607124,13607124,11095313,21590214,11696200,5415041,21590214,9814600,11095313,13607124],\"yaxis\":\"y\",\"type\":\"scatter\"}],                        {\"template\":{\"data\":{\"bar\":[{\"error_x\":{\"color\":\"#2a3f5f\"},\"error_y\":{\"color\":\"#2a3f5f\"},\"marker\":{\"line\":{\"color\":\"#E5ECF6\",\"width\":0.5},\"pattern\":{\"fillmode\":\"overlay\",\"size\":10,\"solidity\":0.2}},\"type\":\"bar\"}],\"barpolar\":[{\"marker\":{\"line\":{\"color\":\"#E5ECF6\",\"width\":0.5},\"pattern\":{\"fillmode\":\"overlay\",\"size\":10,\"solidity\":0.2}},\"type\":\"barpolar\"}],\"carpet\":[{\"aaxis\":{\"endlinecolor\":\"#2a3f5f\",\"gridcolor\":\"white\",\"linecolor\":\"white\",\"minorgridcolor\":\"white\",\"startlinecolor\":\"#2a3f5f\"},\"baxis\":{\"endlinecolor\":\"#2a3f5f\",\"gridcolor\":\"white\",\"linecolor\":\"white\",\"minorgridcolor\":\"white\",\"startlinecolor\":\"#2a3f5f\"},\"type\":\"carpet\"}],\"choropleth\":[{\"colorbar\":{\"outlinewidth\":0,\"ticks\":\"\"},\"type\":\"choropleth\"}],\"contour\":[{\"colorbar\":{\"outlinewidth\":0,\"ticks\":\"\"},\"colorscale\":[[0.0,\"#0d0887\"],[0.1111111111111111,\"#46039f\"],[0.2222222222222222,\"#7201a8\"],[0.3333333333333333,\"#9c179e\"],[0.4444444444444444,\"#bd3786\"],[0.5555555555555556,\"#d8576b\"],[0.6666666666666666,\"#ed7953\"],[0.7777777777777778,\"#fb9f3a\"],[0.8888888888888888,\"#fdca26\"],[1.0,\"#f0f921\"]],\"type\":\"contour\"}],\"contourcarpet\":[{\"colorbar\":{\"outlinewidth\":0,\"ticks\":\"\"},\"type\":\"contourcarpet\"}],\"heatmap\":[{\"colorbar\":{\"outlinewidth\":0,\"ticks\":\"\"},\"colorscale\":[[0.0,\"#0d0887\"],[0.1111111111111111,\"#46039f\"],[0.2222222222222222,\"#7201a8\"],[0.3333333333333333,\"#9c179e\"],[0.4444444444444444,\"#bd3786\"],[0.5555555555555556,\"#d8576b\"],[0.6666666666666666,\"#ed7953\"],[0.7777777777777778,\"#fb9f3a\"],[0.8888888888888888,\"#fdca26\"],[1.0,\"#f0f921\"]],\"type\":\"heatmap\"}],\"heatmapgl\":[{\"colorbar\":{\"outlinewidth\":0,\"ticks\":\"\"},\"colorscale\":[[0.0,\"#0d0887\"],[0.1111111111111111,\"#46039f\"],[0.2222222222222222,\"#7201a8\"],[0.3333333333333333,\"#9c179e\"],[0.4444444444444444,\"#bd3786\"],[0.5555555555555556,\"#d8576b\"],[0.6666666666666666,\"#ed7953\"],[0.7777777777777778,\"#fb9f3a\"],[0.8888888888888888,\"#fdca26\"],[1.0,\"#f0f921\"]],\"type\":\"heatmapgl\"}],\"histogram\":[{\"marker\":{\"pattern\":{\"fillmode\":\"overlay\",\"size\":10,\"solidity\":0.2}},\"type\":\"histogram\"}],\"histogram2d\":[{\"colorbar\":{\"outlinewidth\":0,\"ticks\":\"\"},\"colorscale\":[[0.0,\"#0d0887\"],[0.1111111111111111,\"#46039f\"],[0.2222222222222222,\"#7201a8\"],[0.3333333333333333,\"#9c179e\"],[0.4444444444444444,\"#bd3786\"],[0.5555555555555556,\"#d8576b\"],[0.6666666666666666,\"#ed7953\"],[0.7777777777777778,\"#fb9f3a\"],[0.8888888888888888,\"#fdca26\"],[1.0,\"#f0f921\"]],\"type\":\"histogram2d\"}],\"histogram2dcontour\":[{\"colorbar\":{\"outlinewidth\":0,\"ticks\":\"\"},\"colorscale\":[[0.0,\"#0d0887\"],[0.1111111111111111,\"#46039f\"],[0.2222222222222222,\"#7201a8\"],[0.3333333333333333,\"#9c179e\"],[0.4444444444444444,\"#bd3786\"],[0.5555555555555556,\"#d8576b\"],[0.6666666666666666,\"#ed7953\"],[0.7777777777777778,\"#fb9f3a\"],[0.8888888888888888,\"#fdca26\"],[1.0,\"#f0f921\"]],\"type\":\"histogram2dcontour\"}],\"mesh3d\":[{\"colorbar\":{\"outlinewidth\":0,\"ticks\":\"\"},\"type\":\"mesh3d\"}],\"parcoords\":[{\"line\":{\"colorbar\":{\"outlinewidth\":0,\"ticks\":\"\"}},\"type\":\"parcoords\"}],\"pie\":[{\"automargin\":true,\"type\":\"pie\"}],\"scatter\":[{\"marker\":{\"colorbar\":{\"outlinewidth\":0,\"ticks\":\"\"}},\"type\":\"scatter\"}],\"scatter3d\":[{\"line\":{\"colorbar\":{\"outlinewidth\":0,\"ticks\":\"\"}},\"marker\":{\"colorbar\":{\"outlinewidth\":0,\"ticks\":\"\"}},\"type\":\"scatter3d\"}],\"scattercarpet\":[{\"marker\":{\"colorbar\":{\"outlinewidth\":0,\"ticks\":\"\"}},\"type\":\"scattercarpet\"}],\"scattergeo\":[{\"marker\":{\"colorbar\":{\"outlinewidth\":0,\"ticks\":\"\"}},\"type\":\"scattergeo\"}],\"scattergl\":[{\"marker\":{\"colorbar\":{\"outlinewidth\":0,\"ticks\":\"\"}},\"type\":\"scattergl\"}],\"scattermapbox\":[{\"marker\":{\"colorbar\":{\"outlinewidth\":0,\"ticks\":\"\"}},\"type\":\"scattermapbox\"}],\"scatterpolar\":[{\"marker\":{\"colorbar\":{\"outlinewidth\":0,\"ticks\":\"\"}},\"type\":\"scatterpolar\"}],\"scatterpolargl\":[{\"marker\":{\"colorbar\":{\"outlinewidth\":0,\"ticks\":\"\"}},\"type\":\"scatterpolargl\"}],\"scatterternary\":[{\"marker\":{\"colorbar\":{\"outlinewidth\":0,\"ticks\":\"\"}},\"type\":\"scatterternary\"}],\"surface\":[{\"colorbar\":{\"outlinewidth\":0,\"ticks\":\"\"},\"colorscale\":[[0.0,\"#0d0887\"],[0.1111111111111111,\"#46039f\"],[0.2222222222222222,\"#7201a8\"],[0.3333333333333333,\"#9c179e\"],[0.4444444444444444,\"#bd3786\"],[0.5555555555555556,\"#d8576b\"],[0.6666666666666666,\"#ed7953\"],[0.7777777777777778,\"#fb9f3a\"],[0.8888888888888888,\"#fdca26\"],[1.0,\"#f0f921\"]],\"type\":\"surface\"}],\"table\":[{\"cells\":{\"fill\":{\"color\":\"#EBF0F8\"},\"line\":{\"color\":\"white\"}},\"header\":{\"fill\":{\"color\":\"#C8D4E3\"},\"line\":{\"color\":\"white\"}},\"type\":\"table\"}]},\"layout\":{\"annotationdefaults\":{\"arrowcolor\":\"#2a3f5f\",\"arrowhead\":0,\"arrowwidth\":1},\"autotypenumbers\":\"strict\",\"coloraxis\":{\"colorbar\":{\"outlinewidth\":0,\"ticks\":\"\"}},\"colorscale\":{\"diverging\":[[0,\"#8e0152\"],[0.1,\"#c51b7d\"],[0.2,\"#de77ae\"],[0.3,\"#f1b6da\"],[0.4,\"#fde0ef\"],[0.5,\"#f7f7f7\"],[0.6,\"#e6f5d0\"],[0.7,\"#b8e186\"],[0.8,\"#7fbc41\"],[0.9,\"#4d9221\"],[1,\"#276419\"]],\"sequential\":[[0.0,\"#0d0887\"],[0.1111111111111111,\"#46039f\"],[0.2222222222222222,\"#7201a8\"],[0.3333333333333333,\"#9c179e\"],[0.4444444444444444,\"#bd3786\"],[0.5555555555555556,\"#d8576b\"],[0.6666666666666666,\"#ed7953\"],[0.7777777777777778,\"#fb9f3a\"],[0.8888888888888888,\"#fdca26\"],[1.0,\"#f0f921\"]],\"sequentialminus\":[[0.0,\"#0d0887\"],[0.1111111111111111,\"#46039f\"],[0.2222222222222222,\"#7201a8\"],[0.3333333333333333,\"#9c179e\"],[0.4444444444444444,\"#bd3786\"],[0.5555555555555556,\"#d8576b\"],[0.6666666666666666,\"#ed7953\"],[0.7777777777777778,\"#fb9f3a\"],[0.8888888888888888,\"#fdca26\"],[1.0,\"#f0f921\"]]},\"colorway\":[\"#636efa\",\"#EF553B\",\"#00cc96\",\"#ab63fa\",\"#FFA15A\",\"#19d3f3\",\"#FF6692\",\"#B6E880\",\"#FF97FF\",\"#FECB52\"],\"font\":{\"color\":\"#2a3f5f\"},\"geo\":{\"bgcolor\":\"white\",\"lakecolor\":\"white\",\"landcolor\":\"#E5ECF6\",\"showlakes\":true,\"showland\":true,\"subunitcolor\":\"white\"},\"hoverlabel\":{\"align\":\"left\"},\"hovermode\":\"closest\",\"mapbox\":{\"style\":\"light\"},\"paper_bgcolor\":\"white\",\"plot_bgcolor\":\"#E5ECF6\",\"polar\":{\"angularaxis\":{\"gridcolor\":\"white\",\"linecolor\":\"white\",\"ticks\":\"\"},\"bgcolor\":\"#E5ECF6\",\"radialaxis\":{\"gridcolor\":\"white\",\"linecolor\":\"white\",\"ticks\":\"\"}},\"scene\":{\"xaxis\":{\"backgroundcolor\":\"#E5ECF6\",\"gridcolor\":\"white\",\"gridwidth\":2,\"linecolor\":\"white\",\"showbackground\":true,\"ticks\":\"\",\"zerolinecolor\":\"white\"},\"yaxis\":{\"backgroundcolor\":\"#E5ECF6\",\"gridcolor\":\"white\",\"gridwidth\":2,\"linecolor\":\"white\",\"showbackground\":true,\"ticks\":\"\",\"zerolinecolor\":\"white\"},\"zaxis\":{\"backgroundcolor\":\"#E5ECF6\",\"gridcolor\":\"white\",\"gridwidth\":2,\"linecolor\":\"white\",\"showbackground\":true,\"ticks\":\"\",\"zerolinecolor\":\"white\"}},\"shapedefaults\":{\"line\":{\"color\":\"#2a3f5f\"}},\"ternary\":{\"aaxis\":{\"gridcolor\":\"white\",\"linecolor\":\"white\",\"ticks\":\"\"},\"baxis\":{\"gridcolor\":\"white\",\"linecolor\":\"white\",\"ticks\":\"\"},\"bgcolor\":\"#E5ECF6\",\"caxis\":{\"gridcolor\":\"white\",\"linecolor\":\"white\",\"ticks\":\"\"}},\"title\":{\"x\":0.05},\"xaxis\":{\"automargin\":true,\"gridcolor\":\"white\",\"linecolor\":\"white\",\"ticks\":\"\",\"title\":{\"standoff\":15},\"zerolinecolor\":\"white\",\"zerolinewidth\":2},\"yaxis\":{\"automargin\":true,\"gridcolor\":\"white\",\"linecolor\":\"white\",\"ticks\":\"\",\"title\":{\"standoff\":15},\"zerolinecolor\":\"white\",\"zerolinewidth\":2}}},\"xaxis\":{\"anchor\":\"y\",\"domain\":[0.0,1.0],\"title\":{\"text\":\"Distance to center [km]\"}},\"yaxis\":{\"anchor\":\"x\",\"domain\":[0.0,1.0],\"title\":{\"text\":\"comptage\"}},\"legend\":{\"tracegroupgap\":0},\"margin\":{\"t\":60}},                        {\"responsive\": true}                    ).then(function(){\n",
       "                            \n",
       "var gd = document.getElementById('9e839f64-14ed-492e-b3ed-3481f188be92');\n",
       "var x = new MutationObserver(function (mutations, observer) {{\n",
       "        var display = window.getComputedStyle(gd).display;\n",
       "        if (!display || display === 'none') {{\n",
       "            console.log([gd, 'removed!']);\n",
       "            Plotly.purge(gd);\n",
       "            observer.disconnect();\n",
       "        }}\n",
       "}});\n",
       "\n",
       "// Listen for the removal of the full notebook cells\n",
       "var notebookContainer = gd.closest('#notebook-container');\n",
       "if (notebookContainer) {{\n",
       "    x.observe(notebookContainer, {childList: true});\n",
       "}}\n",
       "\n",
       "// Listen for the clearing of the current output cell\n",
       "var outputEl = gd.closest('.output');\n",
       "if (outputEl) {{\n",
       "    x.observe(outputEl, {childList: true});\n",
       "}}\n",
       "\n",
       "                        })                };                });            </script>        </div>"
      ]
     },
     "metadata": {},
     "output_type": "display_data"
    }
   ],
   "source": [
    "fig = px.line(final_df, x='distance_km', y='comptage',\n",
    "              labels={\n",
    "                     \"distance_km\": \"Distance to center [km]\",\n",
    "                     \"comptage\": \"comptage\"\n",
    "                 })\n",
    "fig.show()"
   ]
  },
  {
   "cell_type": "code",
   "execution_count": 63,
   "id": "4fa112d2",
   "metadata": {},
   "outputs": [
    {
     "data": {
      "application/vnd.plotly.v1+json": {
       "config": {
        "plotlyServerURL": "https://plot.ly"
       },
       "data": [
        {
         "hovertemplate": "Distance to center [km]=%{x}<br>comptage=%{y}<extra></extra>",
         "legendgroup": "",
         "marker": {
          "color": "#636efa",
          "symbol": "circle"
         },
         "mode": "markers",
         "name": "",
         "orientation": "v",
         "showlegend": false,
         "type": "scatter",
         "x": [
          0.0691,
          0.1432,
          0.2782,
          0.3123,
          0.3506,
          0.4643,
          0.4744,
          0.5075,
          0.5385,
          0.5619,
          0.7757,
          0.8662,
          0.8675,
          0.8787,
          0.9111,
          1.0016,
          1.0234,
          1.0717,
          1.1201,
          1.1481,
          1.3071,
          1.3609,
          1.4901,
          1.5044,
          1.5908,
          1.6032,
          1.6671,
          1.8659,
          1.9827,
          2.2421,
          2.2423,
          2.249,
          2.2665,
          2.3391,
          2.4804,
          2.5009,
          2.5177,
          2.8424,
          2.9272,
          2.9583,
          3.0659,
          3.1451,
          3.1989,
          3.2444,
          3.3227,
          3.4648,
          3.5362,
          3.6211,
          3.6821,
          3.7428,
          3.7888,
          3.8091,
          4.1213,
          4.1872,
          4.2037,
          4.2266,
          4.4887,
          4.5252,
          4.5845,
          4.7354,
          4.7536,
          4.7863,
          4.8063,
          4.8536,
          5.0278,
          5.4757,
          5.7547,
          5.7977,
          5.8718,
          5.9002,
          6.0814,
          6.4573,
          7.1639,
          7.7698,
          8.7306,
          9.7184,
          10.4212,
          11.0239,
          11.462,
          11.4804,
          11.4888,
          11.4972,
          11.8009,
          12.4519,
          12.9793
         ],
         "xaxis": "x",
         "y": [
          54831590,
          54831590,
          10889367,
          54831590,
          54831590,
          54831590,
          23372437,
          21590214,
          23372437,
          14562385,
          5415041,
          54831590,
          9814600,
          11696200,
          13607124,
          3903111,
          54831590,
          11340294,
          3903111,
          11095313,
          54831590,
          21238835,
          23372437,
          19871706,
          54831590,
          23372437,
          19871706,
          11340294,
          54831590,
          13607124,
          12352761,
          11095313,
          23372437,
          12352761,
          19871706,
          11095313,
          9814600,
          54831590,
          54831590,
          10889367,
          11340294,
          54831590,
          54831590,
          21238835,
          11340294,
          5415041,
          21238835,
          11340294,
          23372437,
          54831590,
          11696200,
          21590214,
          12352761,
          11696200,
          11604419,
          423642,
          21238835,
          14562385,
          10889367,
          14562385,
          19871706,
          3903111,
          23372437,
          11696200,
          12352761,
          5415041,
          21238835,
          14562385,
          9814600,
          5415041,
          12352761,
          21590214,
          14562385,
          19871706,
          3449621,
          13607124,
          13607124,
          11095313,
          21590214,
          11696200,
          5415041,
          21590214,
          9814600,
          11095313,
          13607124
         ],
         "yaxis": "y"
        },
        {
         "hovertemplate": "<b>OLS trendline</b><br>comptage = -1.67105e+06 * distance_km + 2.7762e+07<br>R<sup>2</sup>=0.113698<br><br>Distance to center [km]=%{x}<br>comptage=%{y} <b>(trend)</b><extra></extra>",
         "legendgroup": "Overall Trendline",
         "line": {
          "color": "#EF553B"
         },
         "mode": "lines",
         "name": "Overall Trendline",
         "showlegend": true,
         "type": "scatter",
         "x": [
          0.0691,
          0.1432,
          0.2782,
          0.3123,
          0.3506,
          0.4643,
          0.4744,
          0.5075,
          0.5385,
          0.5619,
          0.7757,
          0.8662,
          0.8675,
          0.8787,
          0.9111,
          1.0016,
          1.0234,
          1.0717,
          1.1201,
          1.1481,
          1.3071,
          1.3609,
          1.4901,
          1.5044,
          1.5908,
          1.6032,
          1.6671,
          1.8659,
          1.9827,
          2.2421,
          2.2423,
          2.249,
          2.2665,
          2.3391,
          2.4804,
          2.5009,
          2.5177,
          2.8424,
          2.9272,
          2.9583,
          3.0659,
          3.1451,
          3.1989,
          3.2444,
          3.3227,
          3.4648,
          3.5362,
          3.6211,
          3.6821,
          3.7428,
          3.7888,
          3.8091,
          4.1213,
          4.1872,
          4.2037,
          4.2266,
          4.4887,
          4.5252,
          4.5845,
          4.7354,
          4.7536,
          4.7863,
          4.8063,
          4.8536,
          5.0278,
          5.4757,
          5.7547,
          5.7977,
          5.8718,
          5.9002,
          6.0814,
          6.4573,
          7.1639,
          7.7698,
          8.7306,
          9.7184,
          10.4212,
          11.0239,
          11.462,
          11.4804,
          11.4888,
          11.4972,
          11.8009,
          12.4519,
          12.9793
         ],
         "xaxis": "x",
         "y": [
          27646507.13250966,
          27522682.088928904,
          27297089.90426761,
          27240106.989475384,
          27176105.651160363,
          26986106.900078963,
          26969229.262559857,
          26913917.40098735,
          26862114.751176234,
          26823012.105834942,
          26465740.92746024,
          26314510.611076184,
          26312338.241890557,
          26293622.445829768,
          26239480.321511056,
          26088250.005127005,
          26051821.044937253,
          25971109.174425103,
          25890230.19859098,
          25843440.708439004,
          25577743.24650459,
          25487840.583284013,
          25271940.507297054,
          25248044.446255155,
          25103665.448071927,
          25082944.38814748,
          24976164.0874078,
          24643958.707328796,
          24448779.691266283,
          24015308.486072652,
          24014974.27542871,
          24003778.21885663,
          23974534.787511647,
          23853216.32376046,
          23617096.50381497,
          23582839.912810847,
          23554766.218719665,
          23012175.238278754,
          22870469.925247066,
          22818500.17011398,
          22638694.84367283,
          22506347.42867154,
          22416444.765450962,
          22340411.843954004,
          22209568.376850456,
          21972111.714329194,
          21852798.51444166,
          21710926.096088003,
          21608991.84968549,
          21507558.919248894,
          21430690.471142083,
          21396768.090781905,
          20875065.27558741,
          20764942.868408304,
          20737370.490283035,
          20699103.3715516,
          20261120.32266474,
          20200126.880145207,
          20101033.424216207,
          19848871.49336147,
          19818458.324762687,
          19763814.884478062,
          19730393.820083797,
          19651353.002791356,
          19360255.5319173,
          18611790.79480771,
          18145566.9465077,
          18073711.65806003,
          17949886.61447927,
          17902428.703039415,
          17599633.859627362,
          16971484.95433713,
          15790718.749287711,
          14778227.60346342,
          13172679.669962876,
          11522013.299530074,
          10347597.096715566,
          9340453.321194358,
          8608364.90563796,
          8577617.526395235,
          8563580.679349642,
          8549543.832304053,
          8042044.969477121,
          6954189.323443759,
          6072875.855366964
         ],
         "yaxis": "y"
        }
       ],
       "layout": {
        "legend": {
         "tracegroupgap": 0
        },
        "template": {
         "data": {
          "bar": [
           {
            "error_x": {
             "color": "#2a3f5f"
            },
            "error_y": {
             "color": "#2a3f5f"
            },
            "marker": {
             "line": {
              "color": "#E5ECF6",
              "width": 0.5
             },
             "pattern": {
              "fillmode": "overlay",
              "size": 10,
              "solidity": 0.2
             }
            },
            "type": "bar"
           }
          ],
          "barpolar": [
           {
            "marker": {
             "line": {
              "color": "#E5ECF6",
              "width": 0.5
             },
             "pattern": {
              "fillmode": "overlay",
              "size": 10,
              "solidity": 0.2
             }
            },
            "type": "barpolar"
           }
          ],
          "carpet": [
           {
            "aaxis": {
             "endlinecolor": "#2a3f5f",
             "gridcolor": "white",
             "linecolor": "white",
             "minorgridcolor": "white",
             "startlinecolor": "#2a3f5f"
            },
            "baxis": {
             "endlinecolor": "#2a3f5f",
             "gridcolor": "white",
             "linecolor": "white",
             "minorgridcolor": "white",
             "startlinecolor": "#2a3f5f"
            },
            "type": "carpet"
           }
          ],
          "choropleth": [
           {
            "colorbar": {
             "outlinewidth": 0,
             "ticks": ""
            },
            "type": "choropleth"
           }
          ],
          "contour": [
           {
            "colorbar": {
             "outlinewidth": 0,
             "ticks": ""
            },
            "colorscale": [
             [
              0,
              "#0d0887"
             ],
             [
              0.1111111111111111,
              "#46039f"
             ],
             [
              0.2222222222222222,
              "#7201a8"
             ],
             [
              0.3333333333333333,
              "#9c179e"
             ],
             [
              0.4444444444444444,
              "#bd3786"
             ],
             [
              0.5555555555555556,
              "#d8576b"
             ],
             [
              0.6666666666666666,
              "#ed7953"
             ],
             [
              0.7777777777777778,
              "#fb9f3a"
             ],
             [
              0.8888888888888888,
              "#fdca26"
             ],
             [
              1,
              "#f0f921"
             ]
            ],
            "type": "contour"
           }
          ],
          "contourcarpet": [
           {
            "colorbar": {
             "outlinewidth": 0,
             "ticks": ""
            },
            "type": "contourcarpet"
           }
          ],
          "heatmap": [
           {
            "colorbar": {
             "outlinewidth": 0,
             "ticks": ""
            },
            "colorscale": [
             [
              0,
              "#0d0887"
             ],
             [
              0.1111111111111111,
              "#46039f"
             ],
             [
              0.2222222222222222,
              "#7201a8"
             ],
             [
              0.3333333333333333,
              "#9c179e"
             ],
             [
              0.4444444444444444,
              "#bd3786"
             ],
             [
              0.5555555555555556,
              "#d8576b"
             ],
             [
              0.6666666666666666,
              "#ed7953"
             ],
             [
              0.7777777777777778,
              "#fb9f3a"
             ],
             [
              0.8888888888888888,
              "#fdca26"
             ],
             [
              1,
              "#f0f921"
             ]
            ],
            "type": "heatmap"
           }
          ],
          "heatmapgl": [
           {
            "colorbar": {
             "outlinewidth": 0,
             "ticks": ""
            },
            "colorscale": [
             [
              0,
              "#0d0887"
             ],
             [
              0.1111111111111111,
              "#46039f"
             ],
             [
              0.2222222222222222,
              "#7201a8"
             ],
             [
              0.3333333333333333,
              "#9c179e"
             ],
             [
              0.4444444444444444,
              "#bd3786"
             ],
             [
              0.5555555555555556,
              "#d8576b"
             ],
             [
              0.6666666666666666,
              "#ed7953"
             ],
             [
              0.7777777777777778,
              "#fb9f3a"
             ],
             [
              0.8888888888888888,
              "#fdca26"
             ],
             [
              1,
              "#f0f921"
             ]
            ],
            "type": "heatmapgl"
           }
          ],
          "histogram": [
           {
            "marker": {
             "pattern": {
              "fillmode": "overlay",
              "size": 10,
              "solidity": 0.2
             }
            },
            "type": "histogram"
           }
          ],
          "histogram2d": [
           {
            "colorbar": {
             "outlinewidth": 0,
             "ticks": ""
            },
            "colorscale": [
             [
              0,
              "#0d0887"
             ],
             [
              0.1111111111111111,
              "#46039f"
             ],
             [
              0.2222222222222222,
              "#7201a8"
             ],
             [
              0.3333333333333333,
              "#9c179e"
             ],
             [
              0.4444444444444444,
              "#bd3786"
             ],
             [
              0.5555555555555556,
              "#d8576b"
             ],
             [
              0.6666666666666666,
              "#ed7953"
             ],
             [
              0.7777777777777778,
              "#fb9f3a"
             ],
             [
              0.8888888888888888,
              "#fdca26"
             ],
             [
              1,
              "#f0f921"
             ]
            ],
            "type": "histogram2d"
           }
          ],
          "histogram2dcontour": [
           {
            "colorbar": {
             "outlinewidth": 0,
             "ticks": ""
            },
            "colorscale": [
             [
              0,
              "#0d0887"
             ],
             [
              0.1111111111111111,
              "#46039f"
             ],
             [
              0.2222222222222222,
              "#7201a8"
             ],
             [
              0.3333333333333333,
              "#9c179e"
             ],
             [
              0.4444444444444444,
              "#bd3786"
             ],
             [
              0.5555555555555556,
              "#d8576b"
             ],
             [
              0.6666666666666666,
              "#ed7953"
             ],
             [
              0.7777777777777778,
              "#fb9f3a"
             ],
             [
              0.8888888888888888,
              "#fdca26"
             ],
             [
              1,
              "#f0f921"
             ]
            ],
            "type": "histogram2dcontour"
           }
          ],
          "mesh3d": [
           {
            "colorbar": {
             "outlinewidth": 0,
             "ticks": ""
            },
            "type": "mesh3d"
           }
          ],
          "parcoords": [
           {
            "line": {
             "colorbar": {
              "outlinewidth": 0,
              "ticks": ""
             }
            },
            "type": "parcoords"
           }
          ],
          "pie": [
           {
            "automargin": true,
            "type": "pie"
           }
          ],
          "scatter": [
           {
            "marker": {
             "colorbar": {
              "outlinewidth": 0,
              "ticks": ""
             }
            },
            "type": "scatter"
           }
          ],
          "scatter3d": [
           {
            "line": {
             "colorbar": {
              "outlinewidth": 0,
              "ticks": ""
             }
            },
            "marker": {
             "colorbar": {
              "outlinewidth": 0,
              "ticks": ""
             }
            },
            "type": "scatter3d"
           }
          ],
          "scattercarpet": [
           {
            "marker": {
             "colorbar": {
              "outlinewidth": 0,
              "ticks": ""
             }
            },
            "type": "scattercarpet"
           }
          ],
          "scattergeo": [
           {
            "marker": {
             "colorbar": {
              "outlinewidth": 0,
              "ticks": ""
             }
            },
            "type": "scattergeo"
           }
          ],
          "scattergl": [
           {
            "marker": {
             "colorbar": {
              "outlinewidth": 0,
              "ticks": ""
             }
            },
            "type": "scattergl"
           }
          ],
          "scattermapbox": [
           {
            "marker": {
             "colorbar": {
              "outlinewidth": 0,
              "ticks": ""
             }
            },
            "type": "scattermapbox"
           }
          ],
          "scatterpolar": [
           {
            "marker": {
             "colorbar": {
              "outlinewidth": 0,
              "ticks": ""
             }
            },
            "type": "scatterpolar"
           }
          ],
          "scatterpolargl": [
           {
            "marker": {
             "colorbar": {
              "outlinewidth": 0,
              "ticks": ""
             }
            },
            "type": "scatterpolargl"
           }
          ],
          "scatterternary": [
           {
            "marker": {
             "colorbar": {
              "outlinewidth": 0,
              "ticks": ""
             }
            },
            "type": "scatterternary"
           }
          ],
          "surface": [
           {
            "colorbar": {
             "outlinewidth": 0,
             "ticks": ""
            },
            "colorscale": [
             [
              0,
              "#0d0887"
             ],
             [
              0.1111111111111111,
              "#46039f"
             ],
             [
              0.2222222222222222,
              "#7201a8"
             ],
             [
              0.3333333333333333,
              "#9c179e"
             ],
             [
              0.4444444444444444,
              "#bd3786"
             ],
             [
              0.5555555555555556,
              "#d8576b"
             ],
             [
              0.6666666666666666,
              "#ed7953"
             ],
             [
              0.7777777777777778,
              "#fb9f3a"
             ],
             [
              0.8888888888888888,
              "#fdca26"
             ],
             [
              1,
              "#f0f921"
             ]
            ],
            "type": "surface"
           }
          ],
          "table": [
           {
            "cells": {
             "fill": {
              "color": "#EBF0F8"
             },
             "line": {
              "color": "white"
             }
            },
            "header": {
             "fill": {
              "color": "#C8D4E3"
             },
             "line": {
              "color": "white"
             }
            },
            "type": "table"
           }
          ]
         },
         "layout": {
          "annotationdefaults": {
           "arrowcolor": "#2a3f5f",
           "arrowhead": 0,
           "arrowwidth": 1
          },
          "autotypenumbers": "strict",
          "coloraxis": {
           "colorbar": {
            "outlinewidth": 0,
            "ticks": ""
           }
          },
          "colorscale": {
           "diverging": [
            [
             0,
             "#8e0152"
            ],
            [
             0.1,
             "#c51b7d"
            ],
            [
             0.2,
             "#de77ae"
            ],
            [
             0.3,
             "#f1b6da"
            ],
            [
             0.4,
             "#fde0ef"
            ],
            [
             0.5,
             "#f7f7f7"
            ],
            [
             0.6,
             "#e6f5d0"
            ],
            [
             0.7,
             "#b8e186"
            ],
            [
             0.8,
             "#7fbc41"
            ],
            [
             0.9,
             "#4d9221"
            ],
            [
             1,
             "#276419"
            ]
           ],
           "sequential": [
            [
             0,
             "#0d0887"
            ],
            [
             0.1111111111111111,
             "#46039f"
            ],
            [
             0.2222222222222222,
             "#7201a8"
            ],
            [
             0.3333333333333333,
             "#9c179e"
            ],
            [
             0.4444444444444444,
             "#bd3786"
            ],
            [
             0.5555555555555556,
             "#d8576b"
            ],
            [
             0.6666666666666666,
             "#ed7953"
            ],
            [
             0.7777777777777778,
             "#fb9f3a"
            ],
            [
             0.8888888888888888,
             "#fdca26"
            ],
            [
             1,
             "#f0f921"
            ]
           ],
           "sequentialminus": [
            [
             0,
             "#0d0887"
            ],
            [
             0.1111111111111111,
             "#46039f"
            ],
            [
             0.2222222222222222,
             "#7201a8"
            ],
            [
             0.3333333333333333,
             "#9c179e"
            ],
            [
             0.4444444444444444,
             "#bd3786"
            ],
            [
             0.5555555555555556,
             "#d8576b"
            ],
            [
             0.6666666666666666,
             "#ed7953"
            ],
            [
             0.7777777777777778,
             "#fb9f3a"
            ],
            [
             0.8888888888888888,
             "#fdca26"
            ],
            [
             1,
             "#f0f921"
            ]
           ]
          },
          "colorway": [
           "#636efa",
           "#EF553B",
           "#00cc96",
           "#ab63fa",
           "#FFA15A",
           "#19d3f3",
           "#FF6692",
           "#B6E880",
           "#FF97FF",
           "#FECB52"
          ],
          "font": {
           "color": "#2a3f5f"
          },
          "geo": {
           "bgcolor": "white",
           "lakecolor": "white",
           "landcolor": "#E5ECF6",
           "showlakes": true,
           "showland": true,
           "subunitcolor": "white"
          },
          "hoverlabel": {
           "align": "left"
          },
          "hovermode": "closest",
          "mapbox": {
           "style": "light"
          },
          "paper_bgcolor": "white",
          "plot_bgcolor": "#E5ECF6",
          "polar": {
           "angularaxis": {
            "gridcolor": "white",
            "linecolor": "white",
            "ticks": ""
           },
           "bgcolor": "#E5ECF6",
           "radialaxis": {
            "gridcolor": "white",
            "linecolor": "white",
            "ticks": ""
           }
          },
          "scene": {
           "xaxis": {
            "backgroundcolor": "#E5ECF6",
            "gridcolor": "white",
            "gridwidth": 2,
            "linecolor": "white",
            "showbackground": true,
            "ticks": "",
            "zerolinecolor": "white"
           },
           "yaxis": {
            "backgroundcolor": "#E5ECF6",
            "gridcolor": "white",
            "gridwidth": 2,
            "linecolor": "white",
            "showbackground": true,
            "ticks": "",
            "zerolinecolor": "white"
           },
           "zaxis": {
            "backgroundcolor": "#E5ECF6",
            "gridcolor": "white",
            "gridwidth": 2,
            "linecolor": "white",
            "showbackground": true,
            "ticks": "",
            "zerolinecolor": "white"
           }
          },
          "shapedefaults": {
           "line": {
            "color": "#2a3f5f"
           }
          },
          "ternary": {
           "aaxis": {
            "gridcolor": "white",
            "linecolor": "white",
            "ticks": ""
           },
           "baxis": {
            "gridcolor": "white",
            "linecolor": "white",
            "ticks": ""
           },
           "bgcolor": "#E5ECF6",
           "caxis": {
            "gridcolor": "white",
            "linecolor": "white",
            "ticks": ""
           }
          },
          "title": {
           "x": 0.05
          },
          "xaxis": {
           "automargin": true,
           "gridcolor": "white",
           "linecolor": "white",
           "ticks": "",
           "title": {
            "standoff": 15
           },
           "zerolinecolor": "white",
           "zerolinewidth": 2
          },
          "yaxis": {
           "automargin": true,
           "gridcolor": "white",
           "linecolor": "white",
           "ticks": "",
           "title": {
            "standoff": 15
           },
           "zerolinecolor": "white",
           "zerolinewidth": 2
          }
         }
        },
        "title": {
         "text": "Comptage against Distance to center"
        },
        "xaxis": {
         "anchor": "y",
         "domain": [
          0,
          1
         ],
         "title": {
          "text": "Distance to center [km]"
         }
        },
        "yaxis": {
         "anchor": "x",
         "domain": [
          0,
          1
         ],
         "title": {
          "text": "comptage"
         }
        }
       }
      },
      "text/html": [
       "<div>                            <div id=\"24499f20-c584-4e6d-9342-a89e60a23221\" class=\"plotly-graph-div\" style=\"height:525px; width:100%;\"></div>            <script type=\"text/javascript\">                require([\"plotly\"], function(Plotly) {                    window.PLOTLYENV=window.PLOTLYENV || {};                                    if (document.getElementById(\"24499f20-c584-4e6d-9342-a89e60a23221\")) {                    Plotly.newPlot(                        \"24499f20-c584-4e6d-9342-a89e60a23221\",                        [{\"hovertemplate\":\"Distance to center [km]=%{x}<br>comptage=%{y}<extra></extra>\",\"legendgroup\":\"\",\"marker\":{\"color\":\"#636efa\",\"symbol\":\"circle\"},\"mode\":\"markers\",\"name\":\"\",\"orientation\":\"v\",\"showlegend\":false,\"x\":[0.0691,0.1432,0.2782,0.3123,0.3506,0.4643,0.4744,0.5075,0.5385,0.5619,0.7757,0.8662,0.8675,0.8787,0.9111,1.0016,1.0234,1.0717,1.1201,1.1481,1.3071,1.3609,1.4901,1.5044,1.5908,1.6032,1.6671,1.8659,1.9827,2.2421,2.2423,2.249,2.2665,2.3391,2.4804,2.5009,2.5177,2.8424,2.9272,2.9583,3.0659,3.1451,3.1989,3.2444,3.3227,3.4648,3.5362,3.6211,3.6821,3.7428,3.7888,3.8091,4.1213,4.1872,4.2037,4.2266,4.4887,4.5252,4.5845,4.7354,4.7536,4.7863,4.8063,4.8536,5.0278,5.4757,5.7547,5.7977,5.8718,5.9002,6.0814,6.4573,7.1639,7.7698,8.7306,9.7184,10.4212,11.0239,11.462,11.4804,11.4888,11.4972,11.8009,12.4519,12.9793],\"xaxis\":\"x\",\"y\":[54831590,54831590,10889367,54831590,54831590,54831590,23372437,21590214,23372437,14562385,5415041,54831590,9814600,11696200,13607124,3903111,54831590,11340294,3903111,11095313,54831590,21238835,23372437,19871706,54831590,23372437,19871706,11340294,54831590,13607124,12352761,11095313,23372437,12352761,19871706,11095313,9814600,54831590,54831590,10889367,11340294,54831590,54831590,21238835,11340294,5415041,21238835,11340294,23372437,54831590,11696200,21590214,12352761,11696200,11604419,423642,21238835,14562385,10889367,14562385,19871706,3903111,23372437,11696200,12352761,5415041,21238835,14562385,9814600,5415041,12352761,21590214,14562385,19871706,3449621,13607124,13607124,11095313,21590214,11696200,5415041,21590214,9814600,11095313,13607124],\"yaxis\":\"y\",\"type\":\"scatter\"},{\"hovertemplate\":\"<b>OLS trendline</b><br>comptage = -1.67105e+06 * distance_km + 2.7762e+07<br>R<sup>2</sup>=0.113698<br><br>Distance to center [km]=%{x}<br>comptage=%{y} <b>(trend)</b><extra></extra>\",\"legendgroup\":\"Overall Trendline\",\"line\":{\"color\":\"#EF553B\"},\"mode\":\"lines\",\"name\":\"Overall Trendline\",\"showlegend\":true,\"x\":[0.0691,0.1432,0.2782,0.3123,0.3506,0.4643,0.4744,0.5075,0.5385,0.5619,0.7757,0.8662,0.8675,0.8787,0.9111,1.0016,1.0234,1.0717,1.1201,1.1481,1.3071,1.3609,1.4901,1.5044,1.5908,1.6032,1.6671,1.8659,1.9827,2.2421,2.2423,2.249,2.2665,2.3391,2.4804,2.5009,2.5177,2.8424,2.9272,2.9583,3.0659,3.1451,3.1989,3.2444,3.3227,3.4648,3.5362,3.6211,3.6821,3.7428,3.7888,3.8091,4.1213,4.1872,4.2037,4.2266,4.4887,4.5252,4.5845,4.7354,4.7536,4.7863,4.8063,4.8536,5.0278,5.4757,5.7547,5.7977,5.8718,5.9002,6.0814,6.4573,7.1639,7.7698,8.7306,9.7184,10.4212,11.0239,11.462,11.4804,11.4888,11.4972,11.8009,12.4519,12.9793],\"y\":[27646507.13250966,27522682.088928904,27297089.90426761,27240106.989475384,27176105.651160363,26986106.900078963,26969229.262559857,26913917.40098735,26862114.751176234,26823012.105834942,26465740.92746024,26314510.611076184,26312338.241890557,26293622.445829768,26239480.321511056,26088250.005127005,26051821.044937253,25971109.174425103,25890230.19859098,25843440.708439004,25577743.24650459,25487840.583284013,25271940.507297054,25248044.446255155,25103665.448071927,25082944.38814748,24976164.0874078,24643958.707328796,24448779.691266283,24015308.486072652,24014974.27542871,24003778.21885663,23974534.787511647,23853216.32376046,23617096.50381497,23582839.912810847,23554766.218719665,23012175.238278754,22870469.925247066,22818500.17011398,22638694.84367283,22506347.42867154,22416444.765450962,22340411.843954004,22209568.376850456,21972111.714329194,21852798.51444166,21710926.096088003,21608991.84968549,21507558.919248894,21430690.471142083,21396768.090781905,20875065.27558741,20764942.868408304,20737370.490283035,20699103.3715516,20261120.32266474,20200126.880145207,20101033.424216207,19848871.49336147,19818458.324762687,19763814.884478062,19730393.820083797,19651353.002791356,19360255.5319173,18611790.79480771,18145566.9465077,18073711.65806003,17949886.61447927,17902428.703039415,17599633.859627362,16971484.95433713,15790718.749287711,14778227.60346342,13172679.669962876,11522013.299530074,10347597.096715566,9340453.321194358,8608364.90563796,8577617.526395235,8563580.679349642,8549543.832304053,8042044.969477121,6954189.323443759,6072875.855366964],\"type\":\"scatter\",\"xaxis\":\"x\",\"yaxis\":\"y\"}],                        {\"template\":{\"data\":{\"bar\":[{\"error_x\":{\"color\":\"#2a3f5f\"},\"error_y\":{\"color\":\"#2a3f5f\"},\"marker\":{\"line\":{\"color\":\"#E5ECF6\",\"width\":0.5},\"pattern\":{\"fillmode\":\"overlay\",\"size\":10,\"solidity\":0.2}},\"type\":\"bar\"}],\"barpolar\":[{\"marker\":{\"line\":{\"color\":\"#E5ECF6\",\"width\":0.5},\"pattern\":{\"fillmode\":\"overlay\",\"size\":10,\"solidity\":0.2}},\"type\":\"barpolar\"}],\"carpet\":[{\"aaxis\":{\"endlinecolor\":\"#2a3f5f\",\"gridcolor\":\"white\",\"linecolor\":\"white\",\"minorgridcolor\":\"white\",\"startlinecolor\":\"#2a3f5f\"},\"baxis\":{\"endlinecolor\":\"#2a3f5f\",\"gridcolor\":\"white\",\"linecolor\":\"white\",\"minorgridcolor\":\"white\",\"startlinecolor\":\"#2a3f5f\"},\"type\":\"carpet\"}],\"choropleth\":[{\"colorbar\":{\"outlinewidth\":0,\"ticks\":\"\"},\"type\":\"choropleth\"}],\"contour\":[{\"colorbar\":{\"outlinewidth\":0,\"ticks\":\"\"},\"colorscale\":[[0.0,\"#0d0887\"],[0.1111111111111111,\"#46039f\"],[0.2222222222222222,\"#7201a8\"],[0.3333333333333333,\"#9c179e\"],[0.4444444444444444,\"#bd3786\"],[0.5555555555555556,\"#d8576b\"],[0.6666666666666666,\"#ed7953\"],[0.7777777777777778,\"#fb9f3a\"],[0.8888888888888888,\"#fdca26\"],[1.0,\"#f0f921\"]],\"type\":\"contour\"}],\"contourcarpet\":[{\"colorbar\":{\"outlinewidth\":0,\"ticks\":\"\"},\"type\":\"contourcarpet\"}],\"heatmap\":[{\"colorbar\":{\"outlinewidth\":0,\"ticks\":\"\"},\"colorscale\":[[0.0,\"#0d0887\"],[0.1111111111111111,\"#46039f\"],[0.2222222222222222,\"#7201a8\"],[0.3333333333333333,\"#9c179e\"],[0.4444444444444444,\"#bd3786\"],[0.5555555555555556,\"#d8576b\"],[0.6666666666666666,\"#ed7953\"],[0.7777777777777778,\"#fb9f3a\"],[0.8888888888888888,\"#fdca26\"],[1.0,\"#f0f921\"]],\"type\":\"heatmap\"}],\"heatmapgl\":[{\"colorbar\":{\"outlinewidth\":0,\"ticks\":\"\"},\"colorscale\":[[0.0,\"#0d0887\"],[0.1111111111111111,\"#46039f\"],[0.2222222222222222,\"#7201a8\"],[0.3333333333333333,\"#9c179e\"],[0.4444444444444444,\"#bd3786\"],[0.5555555555555556,\"#d8576b\"],[0.6666666666666666,\"#ed7953\"],[0.7777777777777778,\"#fb9f3a\"],[0.8888888888888888,\"#fdca26\"],[1.0,\"#f0f921\"]],\"type\":\"heatmapgl\"}],\"histogram\":[{\"marker\":{\"pattern\":{\"fillmode\":\"overlay\",\"size\":10,\"solidity\":0.2}},\"type\":\"histogram\"}],\"histogram2d\":[{\"colorbar\":{\"outlinewidth\":0,\"ticks\":\"\"},\"colorscale\":[[0.0,\"#0d0887\"],[0.1111111111111111,\"#46039f\"],[0.2222222222222222,\"#7201a8\"],[0.3333333333333333,\"#9c179e\"],[0.4444444444444444,\"#bd3786\"],[0.5555555555555556,\"#d8576b\"],[0.6666666666666666,\"#ed7953\"],[0.7777777777777778,\"#fb9f3a\"],[0.8888888888888888,\"#fdca26\"],[1.0,\"#f0f921\"]],\"type\":\"histogram2d\"}],\"histogram2dcontour\":[{\"colorbar\":{\"outlinewidth\":0,\"ticks\":\"\"},\"colorscale\":[[0.0,\"#0d0887\"],[0.1111111111111111,\"#46039f\"],[0.2222222222222222,\"#7201a8\"],[0.3333333333333333,\"#9c179e\"],[0.4444444444444444,\"#bd3786\"],[0.5555555555555556,\"#d8576b\"],[0.6666666666666666,\"#ed7953\"],[0.7777777777777778,\"#fb9f3a\"],[0.8888888888888888,\"#fdca26\"],[1.0,\"#f0f921\"]],\"type\":\"histogram2dcontour\"}],\"mesh3d\":[{\"colorbar\":{\"outlinewidth\":0,\"ticks\":\"\"},\"type\":\"mesh3d\"}],\"parcoords\":[{\"line\":{\"colorbar\":{\"outlinewidth\":0,\"ticks\":\"\"}},\"type\":\"parcoords\"}],\"pie\":[{\"automargin\":true,\"type\":\"pie\"}],\"scatter\":[{\"marker\":{\"colorbar\":{\"outlinewidth\":0,\"ticks\":\"\"}},\"type\":\"scatter\"}],\"scatter3d\":[{\"line\":{\"colorbar\":{\"outlinewidth\":0,\"ticks\":\"\"}},\"marker\":{\"colorbar\":{\"outlinewidth\":0,\"ticks\":\"\"}},\"type\":\"scatter3d\"}],\"scattercarpet\":[{\"marker\":{\"colorbar\":{\"outlinewidth\":0,\"ticks\":\"\"}},\"type\":\"scattercarpet\"}],\"scattergeo\":[{\"marker\":{\"colorbar\":{\"outlinewidth\":0,\"ticks\":\"\"}},\"type\":\"scattergeo\"}],\"scattergl\":[{\"marker\":{\"colorbar\":{\"outlinewidth\":0,\"ticks\":\"\"}},\"type\":\"scattergl\"}],\"scattermapbox\":[{\"marker\":{\"colorbar\":{\"outlinewidth\":0,\"ticks\":\"\"}},\"type\":\"scattermapbox\"}],\"scatterpolar\":[{\"marker\":{\"colorbar\":{\"outlinewidth\":0,\"ticks\":\"\"}},\"type\":\"scatterpolar\"}],\"scatterpolargl\":[{\"marker\":{\"colorbar\":{\"outlinewidth\":0,\"ticks\":\"\"}},\"type\":\"scatterpolargl\"}],\"scatterternary\":[{\"marker\":{\"colorbar\":{\"outlinewidth\":0,\"ticks\":\"\"}},\"type\":\"scatterternary\"}],\"surface\":[{\"colorbar\":{\"outlinewidth\":0,\"ticks\":\"\"},\"colorscale\":[[0.0,\"#0d0887\"],[0.1111111111111111,\"#46039f\"],[0.2222222222222222,\"#7201a8\"],[0.3333333333333333,\"#9c179e\"],[0.4444444444444444,\"#bd3786\"],[0.5555555555555556,\"#d8576b\"],[0.6666666666666666,\"#ed7953\"],[0.7777777777777778,\"#fb9f3a\"],[0.8888888888888888,\"#fdca26\"],[1.0,\"#f0f921\"]],\"type\":\"surface\"}],\"table\":[{\"cells\":{\"fill\":{\"color\":\"#EBF0F8\"},\"line\":{\"color\":\"white\"}},\"header\":{\"fill\":{\"color\":\"#C8D4E3\"},\"line\":{\"color\":\"white\"}},\"type\":\"table\"}]},\"layout\":{\"annotationdefaults\":{\"arrowcolor\":\"#2a3f5f\",\"arrowhead\":0,\"arrowwidth\":1},\"autotypenumbers\":\"strict\",\"coloraxis\":{\"colorbar\":{\"outlinewidth\":0,\"ticks\":\"\"}},\"colorscale\":{\"diverging\":[[0,\"#8e0152\"],[0.1,\"#c51b7d\"],[0.2,\"#de77ae\"],[0.3,\"#f1b6da\"],[0.4,\"#fde0ef\"],[0.5,\"#f7f7f7\"],[0.6,\"#e6f5d0\"],[0.7,\"#b8e186\"],[0.8,\"#7fbc41\"],[0.9,\"#4d9221\"],[1,\"#276419\"]],\"sequential\":[[0.0,\"#0d0887\"],[0.1111111111111111,\"#46039f\"],[0.2222222222222222,\"#7201a8\"],[0.3333333333333333,\"#9c179e\"],[0.4444444444444444,\"#bd3786\"],[0.5555555555555556,\"#d8576b\"],[0.6666666666666666,\"#ed7953\"],[0.7777777777777778,\"#fb9f3a\"],[0.8888888888888888,\"#fdca26\"],[1.0,\"#f0f921\"]],\"sequentialminus\":[[0.0,\"#0d0887\"],[0.1111111111111111,\"#46039f\"],[0.2222222222222222,\"#7201a8\"],[0.3333333333333333,\"#9c179e\"],[0.4444444444444444,\"#bd3786\"],[0.5555555555555556,\"#d8576b\"],[0.6666666666666666,\"#ed7953\"],[0.7777777777777778,\"#fb9f3a\"],[0.8888888888888888,\"#fdca26\"],[1.0,\"#f0f921\"]]},\"colorway\":[\"#636efa\",\"#EF553B\",\"#00cc96\",\"#ab63fa\",\"#FFA15A\",\"#19d3f3\",\"#FF6692\",\"#B6E880\",\"#FF97FF\",\"#FECB52\"],\"font\":{\"color\":\"#2a3f5f\"},\"geo\":{\"bgcolor\":\"white\",\"lakecolor\":\"white\",\"landcolor\":\"#E5ECF6\",\"showlakes\":true,\"showland\":true,\"subunitcolor\":\"white\"},\"hoverlabel\":{\"align\":\"left\"},\"hovermode\":\"closest\",\"mapbox\":{\"style\":\"light\"},\"paper_bgcolor\":\"white\",\"plot_bgcolor\":\"#E5ECF6\",\"polar\":{\"angularaxis\":{\"gridcolor\":\"white\",\"linecolor\":\"white\",\"ticks\":\"\"},\"bgcolor\":\"#E5ECF6\",\"radialaxis\":{\"gridcolor\":\"white\",\"linecolor\":\"white\",\"ticks\":\"\"}},\"scene\":{\"xaxis\":{\"backgroundcolor\":\"#E5ECF6\",\"gridcolor\":\"white\",\"gridwidth\":2,\"linecolor\":\"white\",\"showbackground\":true,\"ticks\":\"\",\"zerolinecolor\":\"white\"},\"yaxis\":{\"backgroundcolor\":\"#E5ECF6\",\"gridcolor\":\"white\",\"gridwidth\":2,\"linecolor\":\"white\",\"showbackground\":true,\"ticks\":\"\",\"zerolinecolor\":\"white\"},\"zaxis\":{\"backgroundcolor\":\"#E5ECF6\",\"gridcolor\":\"white\",\"gridwidth\":2,\"linecolor\":\"white\",\"showbackground\":true,\"ticks\":\"\",\"zerolinecolor\":\"white\"}},\"shapedefaults\":{\"line\":{\"color\":\"#2a3f5f\"}},\"ternary\":{\"aaxis\":{\"gridcolor\":\"white\",\"linecolor\":\"white\",\"ticks\":\"\"},\"baxis\":{\"gridcolor\":\"white\",\"linecolor\":\"white\",\"ticks\":\"\"},\"bgcolor\":\"#E5ECF6\",\"caxis\":{\"gridcolor\":\"white\",\"linecolor\":\"white\",\"ticks\":\"\"}},\"title\":{\"x\":0.05},\"xaxis\":{\"automargin\":true,\"gridcolor\":\"white\",\"linecolor\":\"white\",\"ticks\":\"\",\"title\":{\"standoff\":15},\"zerolinecolor\":\"white\",\"zerolinewidth\":2},\"yaxis\":{\"automargin\":true,\"gridcolor\":\"white\",\"linecolor\":\"white\",\"ticks\":\"\",\"title\":{\"standoff\":15},\"zerolinecolor\":\"white\",\"zerolinewidth\":2}}},\"xaxis\":{\"anchor\":\"y\",\"domain\":[0.0,1.0],\"title\":{\"text\":\"Distance to center [km]\"}},\"yaxis\":{\"anchor\":\"x\",\"domain\":[0.0,1.0],\"title\":{\"text\":\"comptage\"}},\"legend\":{\"tracegroupgap\":0},\"title\":{\"text\":\"Comptage against Distance to center\"}},                        {\"responsive\": true}                    ).then(function(){\n",
       "                            \n",
       "var gd = document.getElementById('24499f20-c584-4e6d-9342-a89e60a23221');\n",
       "var x = new MutationObserver(function (mutations, observer) {{\n",
       "        var display = window.getComputedStyle(gd).display;\n",
       "        if (!display || display === 'none') {{\n",
       "            console.log([gd, 'removed!']);\n",
       "            Plotly.purge(gd);\n",
       "            observer.disconnect();\n",
       "        }}\n",
       "}});\n",
       "\n",
       "// Listen for the removal of the full notebook cells\n",
       "var notebookContainer = gd.closest('#notebook-container');\n",
       "if (notebookContainer) {{\n",
       "    x.observe(notebookContainer, {childList: true});\n",
       "}}\n",
       "\n",
       "// Listen for the clearing of the current output cell\n",
       "var outputEl = gd.closest('.output');\n",
       "if (outputEl) {{\n",
       "    x.observe(outputEl, {childList: true});\n",
       "}}\n",
       "\n",
       "                        })                };                });            </script>        </div>"
      ]
     },
     "metadata": {},
     "output_type": "display_data"
    }
   ],
   "source": [
    "fig = px.scatter(final_df, x='distance_km', y='comptage', trendline=\"ols\", labels={\n",
    "                     \"distance_km\": \"Distance to center [km]\",\n",
    "                     \"comptage\": \"comptage\"\n",
    "                 }, trendline_scope=\"overall\", title=\"Comptage against Distance to center\")\n",
    "#fig.update_traces(mode = 'lines')\n",
    "fig.show()"
   ]
  },
  {
   "cell_type": "code",
   "execution_count": 44,
   "id": "30ceb1ef",
   "metadata": {},
   "outputs": [
    {
     "data": {
      "text/plain": [
       "LinearRegression()"
      ]
     },
     "execution_count": 44,
     "metadata": {},
     "output_type": "execute_result"
    }
   ],
   "source": [
    "model = LinearRegression()\n",
    "model.fit(final_df[['distance_km']], final_df[['comptage']])"
   ]
  },
  {
   "cell_type": "code",
   "execution_count": 45,
   "id": "cc4fff23",
   "metadata": {},
   "outputs": [],
   "source": [
    "y_pred = model.predict(final_df[['distance_km']])\n",
    "x_values = final_df['distance_km']"
   ]
  },
  {
   "cell_type": "code",
   "execution_count": null,
   "id": "fb1307b2",
   "metadata": {},
   "outputs": [],
   "source": []
  }
 ],
 "metadata": {
  "kernelspec": {
   "display_name": "adfc-env",
   "language": "python",
   "name": "adfc-env"
  },
  "language_info": {
   "codemirror_mode": {
    "name": "ipython",
    "version": 3
   },
   "file_extension": ".py",
   "mimetype": "text/x-python",
   "name": "python",
   "nbconvert_exporter": "python",
   "pygments_lexer": "ipython3",
   "version": "3.9.6"
  }
 },
 "nbformat": 4,
 "nbformat_minor": 5
}
